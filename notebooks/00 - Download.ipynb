{
 "cells": [
  {
   "cell_type": "markdown",
   "metadata": {},
   "source": [
    "The download page for the IPEDS data center is accessed via a javascript form, but I've stored a current (fall 2015) copy. This notebook will download all of the zipped data files and their dictionaries, and put them in the correct directories."
   ]
  },
  {
   "cell_type": "code",
   "execution_count": 1,
   "metadata": {
    "collapsed": true
   },
   "outputs": [],
   "source": [
    "from bs4 import BeautifulSoup\n",
    "import re"
   ]
  },
  {
   "cell_type": "markdown",
   "metadata": {},
   "source": [
    "## Parse the file and grab the links"
   ]
  },
  {
   "cell_type": "code",
   "execution_count": 2,
   "metadata": {
    "collapsed": false
   },
   "outputs": [],
   "source": [
    "soup = BeautifulSoup(open('../data_archives/IPEDS Data Center.html'), 'lxml')"
   ]
  },
  {
   "cell_type": "code",
   "execution_count": 3,
   "metadata": {
    "collapsed": true
   },
   "outputs": [],
   "source": [
    "rows = soup.find_all('tr', \"idc_gridviewrow\")"
   ]
  },
  {
   "cell_type": "code",
   "execution_count": 4,
   "metadata": {
    "collapsed": false
   },
   "outputs": [],
   "source": [
    "datalinks = []\n",
    "dictionarylinks = []\n",
    "\n",
    "for row in rows:\n",
    "    datalinks.append(row.find(\"a\", text=re.compile(\"^((?!STATA|SPSS|SAS|Dictionary).)*$\")).attrs['href'])\n",
    "    dictionarylinks.append(row.find(\"a\", text=\"Dictionary\").attrs['href'])"
   ]
  },
  {
   "cell_type": "markdown",
   "metadata": {},
   "source": [
    "##Grab the files"
   ]
  },
  {
   "cell_type": "code",
   "execution_count": 17,
   "metadata": {
    "collapsed": true
   },
   "outputs": [],
   "source": [
    "import requests\n",
    "import os\n",
    "import zipfile"
   ]
  },
  {
   "cell_type": "code",
   "execution_count": 19,
   "metadata": {
    "collapsed": false
   },
   "outputs": [],
   "source": [
    "def download_and_unpack(link, directory):\n",
    "    os.chdir(\"../\" + directory)\n",
    "    r = requests.get(link)\n",
    "    chunk_size = 1024\n",
    "    filename = \"../data_archives/\" + link.split(\"/\")[-1]\n",
    "    with open(filename, 'wb') as fd:\n",
    "        for chunk in r.iter_content(chunk_size):\n",
    "            fd.write(chunk)\n",
    "        \n",
    "    csvzip = zipfile.ZipFile(filename)\n",
    "    csvzip.extractall()"
   ]
  },
  {
   "cell_type": "code",
   "execution_count": 20,
   "metadata": {
    "collapsed": true
   },
   "outputs": [],
   "source": [
    "download_and_unpack(dictionarylinks[0], \"dictionaries\")"
   ]
  },
  {
   "cell_type": "code",
   "execution_count": 21,
   "metadata": {
    "collapsed": true
   },
   "outputs": [],
   "source": [
    "download_and_unpack(datalinks[0], \"data\")"
   ]
  },
  {
   "cell_type": "code",
   "execution_count": null,
   "metadata": {
    "collapsed": true
   },
   "outputs": [],
   "source": [
    "for link in datalinks:\n",
    "    download_and_unpack(link, 'data')\n",
    "    \n",
    "for link in dictionarylinks:\n",
    "    download_and_unpack(link, 'dictionaries')"
   ]
  },
  {
   "cell_type": "code",
   "execution_count": null,
   "metadata": {
    "collapsed": true
   },
   "outputs": [],
   "source": []
  }
 ],
 "metadata": {
  "kernelspec": {
   "display_name": "Python 3",
   "language": "python",
   "name": "python3"
  },
  "language_info": {
   "codemirror_mode": {
    "name": "ipython",
    "version": 3
   },
   "file_extension": ".py",
   "mimetype": "text/x-python",
   "name": "python",
   "nbconvert_exporter": "python",
   "pygments_lexer": "ipython3",
   "version": "3.4.3"
  }
 },
 "nbformat": 4,
 "nbformat_minor": 0
}
